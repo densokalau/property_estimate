{
 "cells": [
  {
   "cell_type": "code",
   "execution_count": 73,
   "metadata": {},
   "outputs": [],
   "source": [
    "import pandas as pd\n",
    "import numpy as np\n",
    "import matplotlib.pyplot as plt\n",
    "import seaborn as sns\n",
    "import pickle"
   ]
  },
  {
   "cell_type": "code",
   "execution_count": 6,
   "metadata": {},
   "outputs": [
    {
     "name": "stderr",
     "output_type": "stream",
     "text": [
      "/Users/dzianissokalau/pyenv/lib/python3.9/site-packages/IPython/core/interactiveshell.py:3146: DtypeWarning: Columns (22,24,31,36,48,49,57,58,60,62,78,85,86,87,89,100,102,111,113,120,126,127,136) have mixed types.Specify dtype option on import or set low_memory=False.\n",
      "  has_raised = await self.run_ast_nodes(code_ast.body, cell_name,\n"
     ]
    }
   ],
   "source": [
    "df = pd.read_csv('output/property_for_rent_20201206.csv')"
   ]
  },
  {
   "cell_type": "code",
   "execution_count": 7,
   "metadata": {},
   "outputs": [
    {
     "data": {
      "text/html": [
       "<div>\n",
       "<style scoped>\n",
       "    .dataframe tbody tr th:only-of-type {\n",
       "        vertical-align: middle;\n",
       "    }\n",
       "\n",
       "    .dataframe tbody tr th {\n",
       "        vertical-align: top;\n",
       "    }\n",
       "\n",
       "    .dataframe thead th {\n",
       "        text-align: right;\n",
       "    }\n",
       "</style>\n",
       "<table border=\"1\" class=\"dataframe\">\n",
       "  <thead>\n",
       "    <tr style=\"text-align: right;\">\n",
       "      <th></th>\n",
       "      <th>Unnamed: 0</th>\n",
       "      <th>zpid</th>\n",
       "      <th>city</th>\n",
       "      <th>homeStatus</th>\n",
       "      <th>price</th>\n",
       "      <th>streetAddress</th>\n",
       "      <th>datePosted</th>\n",
       "      <th>zipcode</th>\n",
       "      <th>latitude</th>\n",
       "      <th>longitude</th>\n",
       "      <th>...</th>\n",
       "      <th>associationFeeIncludes</th>\n",
       "      <th>associationName</th>\n",
       "      <th>associationPhone</th>\n",
       "      <th>associationFee2</th>\n",
       "      <th>associationName2</th>\n",
       "      <th>associationPhone2</th>\n",
       "      <th>taxAssessedValue</th>\n",
       "      <th>taxAnnualAmount</th>\n",
       "      <th>listingId</th>\n",
       "      <th>buildingAreaSource</th>\n",
       "    </tr>\n",
       "  </thead>\n",
       "  <tbody>\n",
       "    <tr>\n",
       "      <th>0</th>\n",
       "      <td>0</td>\n",
       "      <td>2076956072</td>\n",
       "      <td>Seymour</td>\n",
       "      <td>FOR_RENT</td>\n",
       "      <td>1195</td>\n",
       "      <td>38 Roberts St UNIT 2</td>\n",
       "      <td>1.607128e+12</td>\n",
       "      <td>6483.0</td>\n",
       "      <td>41.397774</td>\n",
       "      <td>-73.063408</td>\n",
       "      <td>...</td>\n",
       "      <td>NaN</td>\n",
       "      <td>NaN</td>\n",
       "      <td>NaN</td>\n",
       "      <td>NaN</td>\n",
       "      <td>NaN</td>\n",
       "      <td>NaN</td>\n",
       "      <td>NaN</td>\n",
       "      <td>NaN</td>\n",
       "      <td>170358964</td>\n",
       "      <td>NaN</td>\n",
       "    </tr>\n",
       "    <tr>\n",
       "      <th>1</th>\n",
       "      <td>0</td>\n",
       "      <td>163618788</td>\n",
       "      <td>Middletown</td>\n",
       "      <td>FOR_RENT</td>\n",
       "      <td>1850</td>\n",
       "      <td>827 Tower Ridge Cir</td>\n",
       "      <td>1.607089e+12</td>\n",
       "      <td>10941.0</td>\n",
       "      <td>41.402134</td>\n",
       "      <td>-74.305565</td>\n",
       "      <td>...</td>\n",
       "      <td>NaN</td>\n",
       "      <td>NaN</td>\n",
       "      <td>NaN</td>\n",
       "      <td>NaN</td>\n",
       "      <td>NaN</td>\n",
       "      <td>NaN</td>\n",
       "      <td>132200.0</td>\n",
       "      <td>NaN</td>\n",
       "      <td>NaN</td>\n",
       "      <td>NaN</td>\n",
       "    </tr>\n",
       "    <tr>\n",
       "      <th>2</th>\n",
       "      <td>0</td>\n",
       "      <td>2079100141</td>\n",
       "      <td>Seymour</td>\n",
       "      <td>FOR_RENT</td>\n",
       "      <td>2500</td>\n",
       "      <td>43 George St #10</td>\n",
       "      <td>1.607038e+12</td>\n",
       "      <td>6483.0</td>\n",
       "      <td>41.399323</td>\n",
       "      <td>-73.078079</td>\n",
       "      <td>...</td>\n",
       "      <td>NaN</td>\n",
       "      <td>NaN</td>\n",
       "      <td>NaN</td>\n",
       "      <td>NaN</td>\n",
       "      <td>NaN</td>\n",
       "      <td>NaN</td>\n",
       "      <td>NaN</td>\n",
       "      <td>NaN</td>\n",
       "      <td>170358719</td>\n",
       "      <td>NaN</td>\n",
       "    </tr>\n",
       "    <tr>\n",
       "      <th>3</th>\n",
       "      <td>0</td>\n",
       "      <td>57275656</td>\n",
       "      <td>Danbury</td>\n",
       "      <td>FOR_RENT</td>\n",
       "      <td>1500</td>\n",
       "      <td>10 Liberty St #C7</td>\n",
       "      <td>1.606952e+12</td>\n",
       "      <td>6810.0</td>\n",
       "      <td>41.393875</td>\n",
       "      <td>-73.451546</td>\n",
       "      <td>...</td>\n",
       "      <td>NaN</td>\n",
       "      <td>NaN</td>\n",
       "      <td>NaN</td>\n",
       "      <td>NaN</td>\n",
       "      <td>NaN</td>\n",
       "      <td>NaN</td>\n",
       "      <td>81300.0</td>\n",
       "      <td>2244.0</td>\n",
       "      <td>170358547</td>\n",
       "      <td>NaN</td>\n",
       "    </tr>\n",
       "    <tr>\n",
       "      <th>4</th>\n",
       "      <td>0</td>\n",
       "      <td>2076992413</td>\n",
       "      <td>Danbury</td>\n",
       "      <td>FOR_RENT</td>\n",
       "      <td>775</td>\n",
       "      <td>17 Kohanza St #2</td>\n",
       "      <td>1.606923e+12</td>\n",
       "      <td>6811.0</td>\n",
       "      <td>41.402252</td>\n",
       "      <td>-73.466637</td>\n",
       "      <td>...</td>\n",
       "      <td>NaN</td>\n",
       "      <td>NaN</td>\n",
       "      <td>NaN</td>\n",
       "      <td>NaN</td>\n",
       "      <td>NaN</td>\n",
       "      <td>NaN</td>\n",
       "      <td>NaN</td>\n",
       "      <td>NaN</td>\n",
       "      <td>NaN</td>\n",
       "      <td>NaN</td>\n",
       "    </tr>\n",
       "  </tbody>\n",
       "</table>\n",
       "<p>5 rows × 137 columns</p>\n",
       "</div>"
      ],
      "text/plain": [
       "   Unnamed: 0        zpid        city homeStatus  price         streetAddress  \\\n",
       "0           0  2076956072     Seymour   FOR_RENT   1195  38 Roberts St UNIT 2   \n",
       "1           0   163618788  Middletown   FOR_RENT   1850   827 Tower Ridge Cir   \n",
       "2           0  2079100141     Seymour   FOR_RENT   2500      43 George St #10   \n",
       "3           0    57275656     Danbury   FOR_RENT   1500     10 Liberty St #C7   \n",
       "4           0  2076992413     Danbury   FOR_RENT    775      17 Kohanza St #2   \n",
       "\n",
       "     datePosted  zipcode   latitude  longitude  ...  associationFeeIncludes  \\\n",
       "0  1.607128e+12   6483.0  41.397774 -73.063408  ...                     NaN   \n",
       "1  1.607089e+12  10941.0  41.402134 -74.305565  ...                     NaN   \n",
       "2  1.607038e+12   6483.0  41.399323 -73.078079  ...                     NaN   \n",
       "3  1.606952e+12   6810.0  41.393875 -73.451546  ...                     NaN   \n",
       "4  1.606923e+12   6811.0  41.402252 -73.466637  ...                     NaN   \n",
       "\n",
       "   associationName  associationPhone  associationFee2  associationName2  \\\n",
       "0              NaN               NaN              NaN               NaN   \n",
       "1              NaN               NaN              NaN               NaN   \n",
       "2              NaN               NaN              NaN               NaN   \n",
       "3              NaN               NaN              NaN               NaN   \n",
       "4              NaN               NaN              NaN               NaN   \n",
       "\n",
       "   associationPhone2  taxAssessedValue  taxAnnualAmount  listingId  \\\n",
       "0                NaN               NaN              NaN  170358964   \n",
       "1                NaN          132200.0              NaN        NaN   \n",
       "2                NaN               NaN              NaN  170358719   \n",
       "3                NaN           81300.0           2244.0  170358547   \n",
       "4                NaN               NaN              NaN        NaN   \n",
       "\n",
       "  buildingAreaSource  \n",
       "0                NaN  \n",
       "1                NaN  \n",
       "2                NaN  \n",
       "3                NaN  \n",
       "4                NaN  \n",
       "\n",
       "[5 rows x 137 columns]"
      ]
     },
     "execution_count": 7,
     "metadata": {},
     "output_type": "execute_result"
    }
   ],
   "source": [
    "df.head()"
   ]
  },
  {
   "cell_type": "code",
   "execution_count": 8,
   "metadata": {},
   "outputs": [],
   "source": [
    "df = df.drop(columns='Unnamed: 0')"
   ]
  },
  {
   "cell_type": "code",
   "execution_count": 9,
   "metadata": {},
   "outputs": [
    {
     "name": "stdout",
     "output_type": "stream",
     "text": [
      "<class 'pandas.core.frame.DataFrame'>\n",
      "RangeIndex: 13490 entries, 0 to 13489\n",
      "Columns: 136 entries, zpid to buildingAreaSource\n",
      "dtypes: bool(13), float64(60), int64(4), object(59)\n",
      "memory usage: 12.8+ MB\n"
     ]
    }
   ],
   "source": [
    "df.info()"
   ]
  },
  {
   "cell_type": "code",
   "execution_count": 10,
   "metadata": {},
   "outputs": [],
   "source": [
    "def describe_df(df):\n",
    "    counts = df.agg(['count', 'nunique']).transpose()\n",
    "    types =  pd.DataFrame(df.dtypes)\n",
    "    types.columns = ['types']\n",
    "    res_info = types.merge(counts, left_index=True, right_index=True)   \n",
    "    \n",
    "    return res_info"
   ]
  },
  {
   "cell_type": "code",
   "execution_count": 11,
   "metadata": {},
   "outputs": [
    {
     "data": {
      "text/html": [
       "<div>\n",
       "<style scoped>\n",
       "    .dataframe tbody tr th:only-of-type {\n",
       "        vertical-align: middle;\n",
       "    }\n",
       "\n",
       "    .dataframe tbody tr th {\n",
       "        vertical-align: top;\n",
       "    }\n",
       "\n",
       "    .dataframe thead th {\n",
       "        text-align: right;\n",
       "    }\n",
       "</style>\n",
       "<table border=\"1\" class=\"dataframe\">\n",
       "  <thead>\n",
       "    <tr style=\"text-align: right;\">\n",
       "      <th></th>\n",
       "      <th>types</th>\n",
       "      <th>count</th>\n",
       "      <th>nunique</th>\n",
       "    </tr>\n",
       "  </thead>\n",
       "  <tbody>\n",
       "    <tr>\n",
       "      <th>zpid</th>\n",
       "      <td>int64</td>\n",
       "      <td>13490</td>\n",
       "      <td>13490</td>\n",
       "    </tr>\n",
       "    <tr>\n",
       "      <th>city</th>\n",
       "      <td>object</td>\n",
       "      <td>13486</td>\n",
       "      <td>621</td>\n",
       "    </tr>\n",
       "    <tr>\n",
       "      <th>homeStatus</th>\n",
       "      <td>object</td>\n",
       "      <td>13490</td>\n",
       "      <td>2</td>\n",
       "    </tr>\n",
       "    <tr>\n",
       "      <th>price</th>\n",
       "      <td>int64</td>\n",
       "      <td>13490</td>\n",
       "      <td>908</td>\n",
       "    </tr>\n",
       "    <tr>\n",
       "      <th>streetAddress</th>\n",
       "      <td>object</td>\n",
       "      <td>13486</td>\n",
       "      <td>13482</td>\n",
       "    </tr>\n",
       "    <tr>\n",
       "      <th>datePosted</th>\n",
       "      <td>float64</td>\n",
       "      <td>13486</td>\n",
       "      <td>7534</td>\n",
       "    </tr>\n",
       "    <tr>\n",
       "      <th>zipcode</th>\n",
       "      <td>float64</td>\n",
       "      <td>13486</td>\n",
       "      <td>768</td>\n",
       "    </tr>\n",
       "    <tr>\n",
       "      <th>latitude</th>\n",
       "      <td>float64</td>\n",
       "      <td>13486</td>\n",
       "      <td>12693</td>\n",
       "    </tr>\n",
       "    <tr>\n",
       "      <th>longitude</th>\n",
       "      <td>float64</td>\n",
       "      <td>13486</td>\n",
       "      <td>11759</td>\n",
       "    </tr>\n",
       "    <tr>\n",
       "      <th>bedrooms</th>\n",
       "      <td>float64</td>\n",
       "      <td>13486</td>\n",
       "      <td>12</td>\n",
       "    </tr>\n",
       "    <tr>\n",
       "      <th>bathrooms</th>\n",
       "      <td>float64</td>\n",
       "      <td>12095</td>\n",
       "      <td>12</td>\n",
       "    </tr>\n",
       "    <tr>\n",
       "      <th>bathroomsFull</th>\n",
       "      <td>float64</td>\n",
       "      <td>13486</td>\n",
       "      <td>4</td>\n",
       "    </tr>\n",
       "    <tr>\n",
       "      <th>bathroomsThreeQuarter</th>\n",
       "      <td>float64</td>\n",
       "      <td>13486</td>\n",
       "      <td>2</td>\n",
       "    </tr>\n",
       "    <tr>\n",
       "      <th>bathroomsHalf</th>\n",
       "      <td>float64</td>\n",
       "      <td>13486</td>\n",
       "      <td>2</td>\n",
       "    </tr>\n",
       "    <tr>\n",
       "      <th>bathroomsOneQuarter</th>\n",
       "      <td>float64</td>\n",
       "      <td>13486</td>\n",
       "      <td>1</td>\n",
       "    </tr>\n",
       "    <tr>\n",
       "      <th>basement</th>\n",
       "      <td>object</td>\n",
       "      <td>726</td>\n",
       "      <td>15</td>\n",
       "    </tr>\n",
       "    <tr>\n",
       "      <th>flooring</th>\n",
       "      <td>object</td>\n",
       "      <td>8592</td>\n",
       "      <td>39</td>\n",
       "    </tr>\n",
       "    <tr>\n",
       "      <th>heating</th>\n",
       "      <td>object</td>\n",
       "      <td>4172</td>\n",
       "      <td>112</td>\n",
       "    </tr>\n",
       "    <tr>\n",
       "      <th>hasHeating</th>\n",
       "      <td>object</td>\n",
       "      <td>13486</td>\n",
       "      <td>2</td>\n",
       "    </tr>\n",
       "    <tr>\n",
       "      <th>cooling</th>\n",
       "      <td>object</td>\n",
       "      <td>13480</td>\n",
       "      <td>6</td>\n",
       "    </tr>\n",
       "    <tr>\n",
       "      <th>hasCooling</th>\n",
       "      <td>object</td>\n",
       "      <td>13486</td>\n",
       "      <td>2</td>\n",
       "    </tr>\n",
       "    <tr>\n",
       "      <th>appliances</th>\n",
       "      <td>object</td>\n",
       "      <td>7683</td>\n",
       "      <td>117</td>\n",
       "    </tr>\n",
       "    <tr>\n",
       "      <th>laundryFeatures</th>\n",
       "      <td>object</td>\n",
       "      <td>3069</td>\n",
       "      <td>3</td>\n",
       "    </tr>\n",
       "    <tr>\n",
       "      <th>hasFireplace</th>\n",
       "      <td>object</td>\n",
       "      <td>1581</td>\n",
       "      <td>2</td>\n",
       "    </tr>\n",
       "    <tr>\n",
       "      <th>furnished</th>\n",
       "      <td>bool</td>\n",
       "      <td>13490</td>\n",
       "      <td>2</td>\n",
       "    </tr>\n",
       "    <tr>\n",
       "      <th>commonWalls</th>\n",
       "      <td>object</td>\n",
       "      <td>1</td>\n",
       "      <td>1</td>\n",
       "    </tr>\n",
       "    <tr>\n",
       "      <th>livingArea</th>\n",
       "      <td>object</td>\n",
       "      <td>7540</td>\n",
       "      <td>1732</td>\n",
       "    </tr>\n",
       "    <tr>\n",
       "      <th>belowGradeFinishedArea</th>\n",
       "      <td>float64</td>\n",
       "      <td>2</td>\n",
       "      <td>2</td>\n",
       "    </tr>\n",
       "    <tr>\n",
       "      <th>virtualTour</th>\n",
       "      <td>object</td>\n",
       "      <td>3</td>\n",
       "      <td>3</td>\n",
       "    </tr>\n",
       "    <tr>\n",
       "      <th>parking</th>\n",
       "      <td>int64</td>\n",
       "      <td>13490</td>\n",
       "      <td>19</td>\n",
       "    </tr>\n",
       "    <tr>\n",
       "      <th>parkingFeatures</th>\n",
       "      <td>object</td>\n",
       "      <td>13471</td>\n",
       "      <td>71</td>\n",
       "    </tr>\n",
       "    <tr>\n",
       "      <th>garageSpaces</th>\n",
       "      <td>int64</td>\n",
       "      <td>13490</td>\n",
       "      <td>19</td>\n",
       "    </tr>\n",
       "    <tr>\n",
       "      <th>coveredSpaces</th>\n",
       "      <td>float64</td>\n",
       "      <td>1</td>\n",
       "      <td>1</td>\n",
       "    </tr>\n",
       "    <tr>\n",
       "      <th>hasAttachedGarage</th>\n",
       "      <td>bool</td>\n",
       "      <td>13490</td>\n",
       "      <td>1</td>\n",
       "    </tr>\n",
       "    <tr>\n",
       "      <th>hasGarage</th>\n",
       "      <td>bool</td>\n",
       "      <td>13490</td>\n",
       "      <td>2</td>\n",
       "    </tr>\n",
       "    <tr>\n",
       "      <th>hasOpenParking</th>\n",
       "      <td>bool</td>\n",
       "      <td>13490</td>\n",
       "      <td>1</td>\n",
       "    </tr>\n",
       "    <tr>\n",
       "      <th>hasCarport</th>\n",
       "      <td>bool</td>\n",
       "      <td>13490</td>\n",
       "      <td>1</td>\n",
       "    </tr>\n",
       "    <tr>\n",
       "      <th>accessibilityFeatures</th>\n",
       "      <td>object</td>\n",
       "      <td>1</td>\n",
       "      <td>1</td>\n",
       "    </tr>\n",
       "    <tr>\n",
       "      <th>levels</th>\n",
       "      <td>object</td>\n",
       "      <td>1</td>\n",
       "      <td>1</td>\n",
       "    </tr>\n",
       "    <tr>\n",
       "      <th>stories</th>\n",
       "      <td>float64</td>\n",
       "      <td>2246</td>\n",
       "      <td>31</td>\n",
       "    </tr>\n",
       "    <tr>\n",
       "      <th>entryLevel</th>\n",
       "      <td>float64</td>\n",
       "      <td>1</td>\n",
       "      <td>1</td>\n",
       "    </tr>\n",
       "    <tr>\n",
       "      <th>hasPrivatePool</th>\n",
       "      <td>object</td>\n",
       "      <td>922</td>\n",
       "      <td>2</td>\n",
       "    </tr>\n",
       "    <tr>\n",
       "      <th>hasSpa</th>\n",
       "      <td>bool</td>\n",
       "      <td>13490</td>\n",
       "      <td>2</td>\n",
       "    </tr>\n",
       "    <tr>\n",
       "      <th>exteriorFeatures</th>\n",
       "      <td>object</td>\n",
       "      <td>2261</td>\n",
       "      <td>74</td>\n",
       "    </tr>\n",
       "    <tr>\n",
       "      <th>patioAndPorchFeatures</th>\n",
       "      <td>object</td>\n",
       "      <td>1</td>\n",
       "      <td>1</td>\n",
       "    </tr>\n",
       "    <tr>\n",
       "      <th>fencing</th>\n",
       "      <td>object</td>\n",
       "      <td>1</td>\n",
       "      <td>1</td>\n",
       "    </tr>\n",
       "    <tr>\n",
       "      <th>view</th>\n",
       "      <td>object</td>\n",
       "      <td>535</td>\n",
       "      <td>21</td>\n",
       "    </tr>\n",
       "    <tr>\n",
       "      <th>hasView</th>\n",
       "      <td>object</td>\n",
       "      <td>13486</td>\n",
       "      <td>2</td>\n",
       "    </tr>\n",
       "    <tr>\n",
       "      <th>hasWaterfrontView</th>\n",
       "      <td>object</td>\n",
       "      <td>228</td>\n",
       "      <td>1</td>\n",
       "    </tr>\n",
       "    <tr>\n",
       "      <th>waterfrontFeatures</th>\n",
       "      <td>object</td>\n",
       "      <td>5</td>\n",
       "      <td>4</td>\n",
       "    </tr>\n",
       "    <tr>\n",
       "      <th>canRaiseHorses</th>\n",
       "      <td>bool</td>\n",
       "      <td>13490</td>\n",
       "      <td>1</td>\n",
       "    </tr>\n",
       "    <tr>\n",
       "      <th>lotSize</th>\n",
       "      <td>object</td>\n",
       "      <td>2550</td>\n",
       "      <td>1065</td>\n",
       "    </tr>\n",
       "    <tr>\n",
       "      <th>hasAdditionalParcels</th>\n",
       "      <td>bool</td>\n",
       "      <td>13490</td>\n",
       "      <td>1</td>\n",
       "    </tr>\n",
       "    <tr>\n",
       "      <th>parcelNumber</th>\n",
       "      <td>object</td>\n",
       "      <td>3036</td>\n",
       "      <td>3036</td>\n",
       "    </tr>\n",
       "    <tr>\n",
       "      <th>hasAttachedProperty</th>\n",
       "      <td>bool</td>\n",
       "      <td>13490</td>\n",
       "      <td>1</td>\n",
       "    </tr>\n",
       "    <tr>\n",
       "      <th>hasLandLease</th>\n",
       "      <td>bool</td>\n",
       "      <td>13490</td>\n",
       "      <td>1</td>\n",
       "    </tr>\n",
       "    <tr>\n",
       "      <th>zoning</th>\n",
       "      <td>object</td>\n",
       "      <td>5</td>\n",
       "      <td>4</td>\n",
       "    </tr>\n",
       "    <tr>\n",
       "      <th>homeType</th>\n",
       "      <td>object</td>\n",
       "      <td>13490</td>\n",
       "      <td>6</td>\n",
       "    </tr>\n",
       "    <tr>\n",
       "      <th>architecturalStyle</th>\n",
       "      <td>object</td>\n",
       "      <td>278</td>\n",
       "      <td>11</td>\n",
       "    </tr>\n",
       "    <tr>\n",
       "      <th>constructionMaterials</th>\n",
       "      <td>object</td>\n",
       "      <td>1257</td>\n",
       "      <td>10</td>\n",
       "    </tr>\n",
       "    <tr>\n",
       "      <th>foundationDetails</th>\n",
       "      <td>object</td>\n",
       "      <td>292</td>\n",
       "      <td>9</td>\n",
       "    </tr>\n",
       "    <tr>\n",
       "      <th>roofType</th>\n",
       "      <td>object</td>\n",
       "      <td>1187</td>\n",
       "      <td>8</td>\n",
       "    </tr>\n",
       "    <tr>\n",
       "      <th>windowFeatures</th>\n",
       "      <td>object</td>\n",
       "      <td>2</td>\n",
       "      <td>2</td>\n",
       "    </tr>\n",
       "    <tr>\n",
       "      <th>propertyCondition</th>\n",
       "      <td>object</td>\n",
       "      <td>2</td>\n",
       "      <td>2</td>\n",
       "    </tr>\n",
       "    <tr>\n",
       "      <th>isNewConstruction</th>\n",
       "      <td>object</td>\n",
       "      <td>13486</td>\n",
       "      <td>1</td>\n",
       "    </tr>\n",
       "    <tr>\n",
       "      <th>yearBuilt</th>\n",
       "      <td>float64</td>\n",
       "      <td>4653</td>\n",
       "      <td>180</td>\n",
       "    </tr>\n",
       "    <tr>\n",
       "      <th>developmentStatus</th>\n",
       "      <td>object</td>\n",
       "      <td>1</td>\n",
       "      <td>1</td>\n",
       "    </tr>\n",
       "    <tr>\n",
       "      <th>yearBuiltEffective</th>\n",
       "      <td>float64</td>\n",
       "      <td>690</td>\n",
       "      <td>97</td>\n",
       "    </tr>\n",
       "    <tr>\n",
       "      <th>onMarketDate</th>\n",
       "      <td>float64</td>\n",
       "      <td>13486</td>\n",
       "      <td>353</td>\n",
       "    </tr>\n",
       "    <tr>\n",
       "      <th>hasHomeWarranty</th>\n",
       "      <td>bool</td>\n",
       "      <td>13490</td>\n",
       "      <td>1</td>\n",
       "    </tr>\n",
       "    <tr>\n",
       "      <th>electric</th>\n",
       "      <td>float64</td>\n",
       "      <td>1</td>\n",
       "      <td>1</td>\n",
       "    </tr>\n",
       "    <tr>\n",
       "      <th>sewer</th>\n",
       "      <td>object</td>\n",
       "      <td>16</td>\n",
       "      <td>5</td>\n",
       "    </tr>\n",
       "    <tr>\n",
       "      <th>utilities</th>\n",
       "      <td>object</td>\n",
       "      <td>5</td>\n",
       "      <td>4</td>\n",
       "    </tr>\n",
       "    <tr>\n",
       "      <th>greenEnergyEfficient</th>\n",
       "      <td>object</td>\n",
       "      <td>1</td>\n",
       "      <td>1</td>\n",
       "    </tr>\n",
       "    <tr>\n",
       "      <th>numberOfUnitsInCommunity</th>\n",
       "      <td>float64</td>\n",
       "      <td>1</td>\n",
       "      <td>1</td>\n",
       "    </tr>\n",
       "    <tr>\n",
       "      <th>storiesTotal</th>\n",
       "      <td>float64</td>\n",
       "      <td>2</td>\n",
       "      <td>1</td>\n",
       "    </tr>\n",
       "    <tr>\n",
       "      <th>hasPetsAllowed</th>\n",
       "      <td>bool</td>\n",
       "      <td>13490</td>\n",
       "      <td>2</td>\n",
       "    </tr>\n",
       "    <tr>\n",
       "      <th>hasRentControl</th>\n",
       "      <td>bool</td>\n",
       "      <td>13490</td>\n",
       "      <td>1</td>\n",
       "    </tr>\n",
       "    <tr>\n",
       "      <th>buildingFeatures</th>\n",
       "      <td>object</td>\n",
       "      <td>1</td>\n",
       "      <td>1</td>\n",
       "    </tr>\n",
       "    <tr>\n",
       "      <th>structureType</th>\n",
       "      <td>object</td>\n",
       "      <td>1795</td>\n",
       "      <td>30</td>\n",
       "    </tr>\n",
       "    <tr>\n",
       "      <th>buildingName</th>\n",
       "      <td>object</td>\n",
       "      <td>1</td>\n",
       "      <td>1</td>\n",
       "    </tr>\n",
       "    <tr>\n",
       "      <th>elementarySchool</th>\n",
       "      <td>object</td>\n",
       "      <td>1702</td>\n",
       "      <td>655</td>\n",
       "    </tr>\n",
       "    <tr>\n",
       "      <th>elementarySchoolDistrict</th>\n",
       "      <td>object</td>\n",
       "      <td>602</td>\n",
       "      <td>268</td>\n",
       "    </tr>\n",
       "    <tr>\n",
       "      <th>middleOrJuniorSchool</th>\n",
       "      <td>object</td>\n",
       "      <td>483</td>\n",
       "      <td>276</td>\n",
       "    </tr>\n",
       "    <tr>\n",
       "      <th>middleOrJuniorSchoolDistrict</th>\n",
       "      <td>object</td>\n",
       "      <td>602</td>\n",
       "      <td>268</td>\n",
       "    </tr>\n",
       "    <tr>\n",
       "      <th>highSchool</th>\n",
       "      <td>object</td>\n",
       "      <td>1898</td>\n",
       "      <td>475</td>\n",
       "    </tr>\n",
       "    <tr>\n",
       "      <th>highSchoolDistrict</th>\n",
       "      <td>object</td>\n",
       "      <td>602</td>\n",
       "      <td>268</td>\n",
       "    </tr>\n",
       "    <tr>\n",
       "      <th>securityFeatures</th>\n",
       "      <td>object</td>\n",
       "      <td>3</td>\n",
       "      <td>2</td>\n",
       "    </tr>\n",
       "    <tr>\n",
       "      <th>communityFeatures</th>\n",
       "      <td>object</td>\n",
       "      <td>3282</td>\n",
       "      <td>11</td>\n",
       "    </tr>\n",
       "    <tr>\n",
       "      <th>cityRegion</th>\n",
       "      <td>object</td>\n",
       "      <td>13486</td>\n",
       "      <td>604</td>\n",
       "    </tr>\n",
       "    <tr>\n",
       "      <th>associationFee</th>\n",
       "      <td>object</td>\n",
       "      <td>455</td>\n",
       "      <td>285</td>\n",
       "    </tr>\n",
       "    <tr>\n",
       "      <th>hasAssociation</th>\n",
       "      <td>object</td>\n",
       "      <td>455</td>\n",
       "      <td>1</td>\n",
       "    </tr>\n",
       "    <tr>\n",
       "      <th>associationAmenities</th>\n",
       "      <td>object</td>\n",
       "      <td>1</td>\n",
       "      <td>1</td>\n",
       "    </tr>\n",
       "    <tr>\n",
       "      <th>associationFeeIncludes</th>\n",
       "      <td>object</td>\n",
       "      <td>2</td>\n",
       "      <td>2</td>\n",
       "    </tr>\n",
       "    <tr>\n",
       "      <th>taxAssessedValue</th>\n",
       "      <td>float64</td>\n",
       "      <td>2926</td>\n",
       "      <td>2541</td>\n",
       "    </tr>\n",
       "    <tr>\n",
       "      <th>taxAnnualAmount</th>\n",
       "      <td>float64</td>\n",
       "      <td>2610</td>\n",
       "      <td>2355</td>\n",
       "    </tr>\n",
       "    <tr>\n",
       "      <th>listingId</th>\n",
       "      <td>object</td>\n",
       "      <td>4111</td>\n",
       "      <td>4094</td>\n",
       "    </tr>\n",
       "    <tr>\n",
       "      <th>buildingAreaSource</th>\n",
       "      <td>object</td>\n",
       "      <td>1</td>\n",
       "      <td>1</td>\n",
       "    </tr>\n",
       "  </tbody>\n",
       "</table>\n",
       "</div>"
      ],
      "text/plain": [
       "                                types  count  nunique\n",
       "zpid                            int64  13490    13490\n",
       "city                           object  13486      621\n",
       "homeStatus                     object  13490        2\n",
       "price                           int64  13490      908\n",
       "streetAddress                  object  13486    13482\n",
       "datePosted                    float64  13486     7534\n",
       "zipcode                       float64  13486      768\n",
       "latitude                      float64  13486    12693\n",
       "longitude                     float64  13486    11759\n",
       "bedrooms                      float64  13486       12\n",
       "bathrooms                     float64  12095       12\n",
       "bathroomsFull                 float64  13486        4\n",
       "bathroomsThreeQuarter         float64  13486        2\n",
       "bathroomsHalf                 float64  13486        2\n",
       "bathroomsOneQuarter           float64  13486        1\n",
       "basement                       object    726       15\n",
       "flooring                       object   8592       39\n",
       "heating                        object   4172      112\n",
       "hasHeating                     object  13486        2\n",
       "cooling                        object  13480        6\n",
       "hasCooling                     object  13486        2\n",
       "appliances                     object   7683      117\n",
       "laundryFeatures                object   3069        3\n",
       "hasFireplace                   object   1581        2\n",
       "furnished                        bool  13490        2\n",
       "commonWalls                    object      1        1\n",
       "livingArea                     object   7540     1732\n",
       "belowGradeFinishedArea        float64      2        2\n",
       "virtualTour                    object      3        3\n",
       "parking                         int64  13490       19\n",
       "parkingFeatures                object  13471       71\n",
       "garageSpaces                    int64  13490       19\n",
       "coveredSpaces                 float64      1        1\n",
       "hasAttachedGarage                bool  13490        1\n",
       "hasGarage                        bool  13490        2\n",
       "hasOpenParking                   bool  13490        1\n",
       "hasCarport                       bool  13490        1\n",
       "accessibilityFeatures          object      1        1\n",
       "levels                         object      1        1\n",
       "stories                       float64   2246       31\n",
       "entryLevel                    float64      1        1\n",
       "hasPrivatePool                 object    922        2\n",
       "hasSpa                           bool  13490        2\n",
       "exteriorFeatures               object   2261       74\n",
       "patioAndPorchFeatures          object      1        1\n",
       "fencing                        object      1        1\n",
       "view                           object    535       21\n",
       "hasView                        object  13486        2\n",
       "hasWaterfrontView              object    228        1\n",
       "waterfrontFeatures             object      5        4\n",
       "canRaiseHorses                   bool  13490        1\n",
       "lotSize                        object   2550     1065\n",
       "hasAdditionalParcels             bool  13490        1\n",
       "parcelNumber                   object   3036     3036\n",
       "hasAttachedProperty              bool  13490        1\n",
       "hasLandLease                     bool  13490        1\n",
       "zoning                         object      5        4\n",
       "homeType                       object  13490        6\n",
       "architecturalStyle             object    278       11\n",
       "constructionMaterials          object   1257       10\n",
       "foundationDetails              object    292        9\n",
       "roofType                       object   1187        8\n",
       "windowFeatures                 object      2        2\n",
       "propertyCondition              object      2        2\n",
       "isNewConstruction              object  13486        1\n",
       "yearBuilt                     float64   4653      180\n",
       "developmentStatus              object      1        1\n",
       "yearBuiltEffective            float64    690       97\n",
       "onMarketDate                  float64  13486      353\n",
       "hasHomeWarranty                  bool  13490        1\n",
       "electric                      float64      1        1\n",
       "sewer                          object     16        5\n",
       "utilities                      object      5        4\n",
       "greenEnergyEfficient           object      1        1\n",
       "numberOfUnitsInCommunity      float64      1        1\n",
       "storiesTotal                  float64      2        1\n",
       "hasPetsAllowed                   bool  13490        2\n",
       "hasRentControl                   bool  13490        1\n",
       "buildingFeatures               object      1        1\n",
       "structureType                  object   1795       30\n",
       "buildingName                   object      1        1\n",
       "elementarySchool               object   1702      655\n",
       "elementarySchoolDistrict       object    602      268\n",
       "middleOrJuniorSchool           object    483      276\n",
       "middleOrJuniorSchoolDistrict   object    602      268\n",
       "highSchool                     object   1898      475\n",
       "highSchoolDistrict             object    602      268\n",
       "securityFeatures               object      3        2\n",
       "communityFeatures              object   3282       11\n",
       "cityRegion                     object  13486      604\n",
       "associationFee                 object    455      285\n",
       "hasAssociation                 object    455        1\n",
       "associationAmenities           object      1        1\n",
       "associationFeeIncludes         object      2        2\n",
       "taxAssessedValue              float64   2926     2541\n",
       "taxAnnualAmount               float64   2610     2355\n",
       "listingId                      object   4111     4094\n",
       "buildingAreaSource             object      1        1"
      ]
     },
     "execution_count": 11,
     "metadata": {},
     "output_type": "execute_result"
    }
   ],
   "source": [
    "res_info = describe_df(df)\n",
    "\n",
    "pd.set_option('max_colwidth', None)\n",
    "pd.set_option('max_rows', None)\n",
    "\n",
    "res_info[res_info['count'] > 0]"
   ]
  },
  {
   "cell_type": "code",
   "execution_count": 12,
   "metadata": {},
   "outputs": [
    {
     "data": {
      "text/html": [
       "<div>\n",
       "<style scoped>\n",
       "    .dataframe tbody tr th:only-of-type {\n",
       "        vertical-align: middle;\n",
       "    }\n",
       "\n",
       "    .dataframe tbody tr th {\n",
       "        vertical-align: top;\n",
       "    }\n",
       "\n",
       "    .dataframe thead th {\n",
       "        text-align: right;\n",
       "    }\n",
       "</style>\n",
       "<table border=\"1\" class=\"dataframe\">\n",
       "  <thead>\n",
       "    <tr style=\"text-align: right;\">\n",
       "      <th></th>\n",
       "      <th>zipcode</th>\n",
       "      <th>bedrooms</th>\n",
       "      <th>bathrooms</th>\n",
       "      <th>hasHeating</th>\n",
       "      <th>hasCooling</th>\n",
       "      <th>furnished</th>\n",
       "      <th>parking</th>\n",
       "      <th>hasGarage</th>\n",
       "      <th>homeType</th>\n",
       "      <th>hasPetsAllowed</th>\n",
       "      <th>appliances</th>\n",
       "      <th>laundryFeatures</th>\n",
       "      <th>price</th>\n",
       "    </tr>\n",
       "  </thead>\n",
       "  <tbody>\n",
       "    <tr>\n",
       "      <th>0</th>\n",
       "      <td>6483.0</td>\n",
       "      <td>2.0</td>\n",
       "      <td>1.0</td>\n",
       "      <td>True</td>\n",
       "      <td>True</td>\n",
       "      <td>False</td>\n",
       "      <td>1</td>\n",
       "      <td>True</td>\n",
       "      <td>Apartment</td>\n",
       "      <td>False</td>\n",
       "      <td>Dryer | Range / Oven | Refrigerator | Washer</td>\n",
       "      <td>In Unit</td>\n",
       "      <td>1195</td>\n",
       "    </tr>\n",
       "    <tr>\n",
       "      <th>1</th>\n",
       "      <td>10941.0</td>\n",
       "      <td>2.0</td>\n",
       "      <td>2.0</td>\n",
       "      <td>True</td>\n",
       "      <td>True</td>\n",
       "      <td>False</td>\n",
       "      <td>0</td>\n",
       "      <td>False</td>\n",
       "      <td>Apartment</td>\n",
       "      <td>False</td>\n",
       "      <td>Dryer | Washer</td>\n",
       "      <td>In Unit</td>\n",
       "      <td>1850</td>\n",
       "    </tr>\n",
       "    <tr>\n",
       "      <th>2</th>\n",
       "      <td>6483.0</td>\n",
       "      <td>2.0</td>\n",
       "      <td>2.0</td>\n",
       "      <td>True</td>\n",
       "      <td>True</td>\n",
       "      <td>False</td>\n",
       "      <td>2</td>\n",
       "      <td>True</td>\n",
       "      <td>Townhouse</td>\n",
       "      <td>False</td>\n",
       "      <td>Dishwasher | Dryer | Microwave | Range / Oven | Refrigerator | Washer</td>\n",
       "      <td>In Unit</td>\n",
       "      <td>2500</td>\n",
       "    </tr>\n",
       "    <tr>\n",
       "      <th>3</th>\n",
       "      <td>6810.0</td>\n",
       "      <td>2.0</td>\n",
       "      <td>1.0</td>\n",
       "      <td>True</td>\n",
       "      <td>True</td>\n",
       "      <td>False</td>\n",
       "      <td>0</td>\n",
       "      <td>False</td>\n",
       "      <td>Apartment</td>\n",
       "      <td>False</td>\n",
       "      <td>Dishwasher | Range / Oven | Refrigerator</td>\n",
       "      <td>NaN</td>\n",
       "      <td>1500</td>\n",
       "    </tr>\n",
       "    <tr>\n",
       "      <th>4</th>\n",
       "      <td>6811.0</td>\n",
       "      <td>0.0</td>\n",
       "      <td>1.0</td>\n",
       "      <td>True</td>\n",
       "      <td>True</td>\n",
       "      <td>False</td>\n",
       "      <td>0</td>\n",
       "      <td>False</td>\n",
       "      <td>Apartment</td>\n",
       "      <td>False</td>\n",
       "      <td>NaN</td>\n",
       "      <td>NaN</td>\n",
       "      <td>775</td>\n",
       "    </tr>\n",
       "  </tbody>\n",
       "</table>\n",
       "</div>"
      ],
      "text/plain": [
       "   zipcode  bedrooms  bathrooms hasHeating hasCooling  furnished  parking  \\\n",
       "0   6483.0       2.0        1.0       True       True      False        1   \n",
       "1  10941.0       2.0        2.0       True       True      False        0   \n",
       "2   6483.0       2.0        2.0       True       True      False        2   \n",
       "3   6810.0       2.0        1.0       True       True      False        0   \n",
       "4   6811.0       0.0        1.0       True       True      False        0   \n",
       "\n",
       "   hasGarage   homeType  hasPetsAllowed  \\\n",
       "0       True  Apartment           False   \n",
       "1      False  Apartment           False   \n",
       "2       True  Townhouse           False   \n",
       "3      False  Apartment           False   \n",
       "4      False  Apartment           False   \n",
       "\n",
       "                                                              appliances  \\\n",
       "0                           Dryer | Range / Oven | Refrigerator | Washer   \n",
       "1                                                         Dryer | Washer   \n",
       "2  Dishwasher | Dryer | Microwave | Range / Oven | Refrigerator | Washer   \n",
       "3                               Dishwasher | Range / Oven | Refrigerator   \n",
       "4                                                                    NaN   \n",
       "\n",
       "  laundryFeatures  price  \n",
       "0         In Unit   1195  \n",
       "1         In Unit   1850  \n",
       "2         In Unit   2500  \n",
       "3             NaN   1500  \n",
       "4             NaN    775  "
      ]
     },
     "execution_count": 12,
     "metadata": {},
     "output_type": "execute_result"
    }
   ],
   "source": [
    "cols = [\n",
    "    'zipcode',\n",
    "    'bedrooms',\n",
    "    'bathrooms',\n",
    "    'hasHeating',\n",
    "    'hasCooling',\n",
    "    'furnished',\n",
    "    'parking',\n",
    "    'hasGarage',\n",
    "    'homeType',\n",
    "    'hasPetsAllowed',\n",
    "    'appliances',\n",
    "    'laundryFeatures',\n",
    "    'price'\n",
    "]\n",
    "\n",
    "df = df[cols]\n",
    "df.head()"
   ]
  },
  {
   "cell_type": "code",
   "execution_count": 13,
   "metadata": {},
   "outputs": [
    {
     "data": {
      "text/plain": [
       "zipcode                4\n",
       "bedrooms               4\n",
       "bathrooms           1395\n",
       "hasHeating             4\n",
       "hasCooling             4\n",
       "furnished              0\n",
       "parking                0\n",
       "hasGarage              0\n",
       "homeType               0\n",
       "hasPetsAllowed         0\n",
       "appliances          5807\n",
       "laundryFeatures    10421\n",
       "price                  0\n",
       "dtype: int64"
      ]
     },
     "execution_count": 13,
     "metadata": {},
     "output_type": "execute_result"
    }
   ],
   "source": [
    "df.isna().sum()"
   ]
  },
  {
   "cell_type": "code",
   "execution_count": 14,
   "metadata": {},
   "outputs": [],
   "source": [
    "df = df[df.zipcode.isna() == False]"
   ]
  },
  {
   "cell_type": "markdown",
   "metadata": {},
   "source": [
    "### Bathrooms"
   ]
  },
  {
   "cell_type": "code",
   "execution_count": 15,
   "metadata": {},
   "outputs": [],
   "source": [
    "bathrooms = df[df.bathrooms.isna() == False].groupby('bedrooms')['bathrooms'].median().reset_index()\n",
    "\n",
    "bathrooms_d = {}\n",
    "for i in bathrooms.index:\n",
    "    key = bathrooms.loc[bathrooms.index==i, 'bedrooms'].values[0]\n",
    "    value = bathrooms.loc[bathrooms.index==i, 'bathrooms'].values[0]\n",
    "    \n",
    "    bathrooms_d[key] = value\n",
    "    \n",
    "\n",
    "def get_batrooms(x, d):\n",
    "    if x in d.keys():\n",
    "        value = d[x]\n",
    "    elif x > np.max(list(d.keys())):\n",
    "        value = np.max(list(d.values()))\n",
    "    elif x < np.min(list(d.keys())):\n",
    "        value = np.min(list(d.values()))\n",
    "    else:\n",
    "        value = np.median(list(bathrooms_d.values()))\n",
    "    \n",
    "    return value"
   ]
  },
  {
   "cell_type": "code",
   "execution_count": 16,
   "metadata": {},
   "outputs": [],
   "source": [
    "df.loc[df.bathrooms.isna(), 'bathrooms'] = df.loc[df.bathrooms.isna(), 'bedrooms'].apply(lambda x: get_batrooms(x, bathrooms_d))"
   ]
  },
  {
   "cell_type": "code",
   "execution_count": 17,
   "metadata": {},
   "outputs": [
    {
     "data": {
      "image/png": "[encoded data removed]",
      "text/plain": [
       "<Figure size 432x288 with 1 Axes>"
      ]
     },
     "metadata": {
      "needs_background": "light"
     },
     "output_type": "display_data"
    }
   ],
   "source": [
    "plt.hist(x=df.bathrooms)\n",
    "plt.xlabel('Bathrooms')\n",
    "plt.ylabel('Frequency')\n",
    "plt.title('Distribution of properties by # bathrums');"
   ]
  },
  {
   "cell_type": "markdown",
   "metadata": {},
   "source": [
    "### hasHeating"
   ]
  },
  {
   "cell_type": "code",
   "execution_count": 18,
   "metadata": {},
   "outputs": [
    {
     "data": {
      "text/plain": [
       "hasHeating\n",
       "False    9314\n",
       "True     4172\n",
       "Name: zipcode, dtype: int64"
      ]
     },
     "execution_count": 18,
     "metadata": {},
     "output_type": "execute_result"
    }
   ],
   "source": [
    "df.groupby('hasHeating')['zipcode'].count()"
   ]
  },
  {
   "cell_type": "code",
   "execution_count": 19,
   "metadata": {},
   "outputs": [],
   "source": [
    "df['hasHeating'] = df.hasHeating.astype(np.int)"
   ]
  },
  {
   "cell_type": "markdown",
   "metadata": {},
   "source": [
    "### hasCooling"
   ]
  },
  {
   "cell_type": "code",
   "execution_count": 20,
   "metadata": {},
   "outputs": [
    {
     "data": {
      "text/plain": [
       "hasCooling\n",
       "False        6\n",
       "True     13480\n",
       "Name: zipcode, dtype: int64"
      ]
     },
     "execution_count": 20,
     "metadata": {},
     "output_type": "execute_result"
    }
   ],
   "source": [
    "df.groupby('hasCooling')['zipcode'].count()"
   ]
  },
  {
   "cell_type": "code",
   "execution_count": 21,
   "metadata": {},
   "outputs": [],
   "source": [
    "df = df.drop(columns='hasCooling')"
   ]
  },
  {
   "cell_type": "markdown",
   "metadata": {},
   "source": [
    "### furnished"
   ]
  },
  {
   "cell_type": "code",
   "execution_count": 24,
   "metadata": {},
   "outputs": [
    {
     "data": {
      "text/plain": [
       "furnished\n",
       "False    13015\n",
       "True       471\n",
       "Name: zipcode, dtype: int64"
      ]
     },
     "execution_count": 24,
     "metadata": {},
     "output_type": "execute_result"
    }
   ],
   "source": [
    "df.groupby('furnished')['zipcode'].count()"
   ]
  },
  {
   "cell_type": "code",
   "execution_count": 25,
   "metadata": {},
   "outputs": [],
   "source": [
    "df['furnished'] = df.furnished.astype(np.int)"
   ]
  },
  {
   "cell_type": "markdown",
   "metadata": {},
   "source": [
    "### parking"
   ]
  },
  {
   "cell_type": "code",
   "execution_count": 26,
   "metadata": {},
   "outputs": [
    {
     "data": {
      "text/plain": [
       "parking\n",
       "0      11819\n",
       "1        821\n",
       "2        596\n",
       "3        103\n",
       "4         72\n",
       "5         22\n",
       "6         25\n",
       "7          7\n",
       "8          9\n",
       "9          1\n",
       "10         3\n",
       "11         1\n",
       "12         1\n",
       "16         1\n",
       "20         1\n",
       "27         1\n",
       "32         1\n",
       "37         1\n",
       "159        1\n",
       "Name: zipcode, dtype: int64"
      ]
     },
     "execution_count": 26,
     "metadata": {},
     "output_type": "execute_result"
    }
   ],
   "source": [
    "df.groupby('parking')['zipcode'].count()"
   ]
  },
  {
   "cell_type": "code",
   "execution_count": 47,
   "metadata": {},
   "outputs": [],
   "source": [
    "df['parking'] = df.parking.apply(lambda x: 1 if x > 0 else 0)"
   ]
  },
  {
   "cell_type": "markdown",
   "metadata": {},
   "source": [
    "### hasGarage"
   ]
  },
  {
   "cell_type": "code",
   "execution_count": 27,
   "metadata": {},
   "outputs": [
    {
     "data": {
      "text/plain": [
       "hasGarage\n",
       "False    11819\n",
       "True      1667\n",
       "Name: zipcode, dtype: int64"
      ]
     },
     "execution_count": 27,
     "metadata": {},
     "output_type": "execute_result"
    }
   ],
   "source": [
    "df.groupby('hasGarage')['zipcode'].count()"
   ]
  },
  {
   "cell_type": "code",
   "execution_count": 46,
   "metadata": {},
   "outputs": [],
   "source": [
    "df['hasGarage'] = df.hasGarage.astype(np.int)"
   ]
  },
  {
   "cell_type": "markdown",
   "metadata": {},
   "source": [
    "### homeType"
   ]
  },
  {
   "cell_type": "code",
   "execution_count": 28,
   "metadata": {},
   "outputs": [
    {
     "data": {
      "text/plain": [
       "homeType\n",
       "Apartment             2707\n",
       "Condo                  832\n",
       "Multiple Occupancy    7798\n",
       "Single Family         1665\n",
       "Townhouse              484\n",
       "Name: zipcode, dtype: int64"
      ]
     },
     "execution_count": 28,
     "metadata": {},
     "output_type": "execute_result"
    }
   ],
   "source": [
    "df.groupby('homeType')['zipcode'].count()"
   ]
  },
  {
   "cell_type": "markdown",
   "metadata": {},
   "source": [
    "### hasPetsAllowed"
   ]
  },
  {
   "cell_type": "code",
   "execution_count": 29,
   "metadata": {},
   "outputs": [
    {
     "data": {
      "text/plain": [
       "hasPetsAllowed\n",
       "False    7771\n",
       "True     5715\n",
       "Name: zipcode, dtype: int64"
      ]
     },
     "execution_count": 29,
     "metadata": {},
     "output_type": "execute_result"
    }
   ],
   "source": [
    "df.groupby('hasPetsAllowed')['zipcode'].count()"
   ]
  },
  {
   "cell_type": "code",
   "execution_count": 30,
   "metadata": {},
   "outputs": [],
   "source": [
    "df['hasPetsAllowed'] = df.hasPetsAllowed.astype(np.int)"
   ]
  },
  {
   "cell_type": "markdown",
   "metadata": {},
   "source": [
    "### appliances"
   ]
  },
  {
   "cell_type": "code",
   "execution_count": 33,
   "metadata": {},
   "outputs": [
    {
     "data": {
      "text/html": [
       "<div>\n",
       "<style scoped>\n",
       "    .dataframe tbody tr th:only-of-type {\n",
       "        vertical-align: middle;\n",
       "    }\n",
       "\n",
       "    .dataframe tbody tr th {\n",
       "        vertical-align: top;\n",
       "    }\n",
       "\n",
       "    .dataframe thead th {\n",
       "        text-align: right;\n",
       "    }\n",
       "</style>\n",
       "<table border=\"1\" class=\"dataframe\">\n",
       "  <thead>\n",
       "    <tr style=\"text-align: right;\">\n",
       "      <th></th>\n",
       "      <th>appliances</th>\n",
       "      <th>zipcode</th>\n",
       "    </tr>\n",
       "  </thead>\n",
       "  <tbody>\n",
       "    <tr>\n",
       "      <th>0</th>\n",
       "      <td>Dishwasher</td>\n",
       "      <td>1856</td>\n",
       "    </tr>\n",
       "    <tr>\n",
       "      <th>87</th>\n",
       "      <td>Dryer | Washer</td>\n",
       "      <td>1113</td>\n",
       "    </tr>\n",
       "    <tr>\n",
       "      <th>39</th>\n",
       "      <td>Dishwasher | Dryer | Washer</td>\n",
       "      <td>1109</td>\n",
       "    </tr>\n",
       "    <tr>\n",
       "      <th>108</th>\n",
       "      <td>Range / Oven</td>\n",
       "      <td>736</td>\n",
       "    </tr>\n",
       "    <tr>\n",
       "      <th>109</th>\n",
       "      <td>Range / Oven | Refrigerator</td>\n",
       "      <td>380</td>\n",
       "    </tr>\n",
       "    <tr>\n",
       "      <th>27</th>\n",
       "      <td>Dishwasher | Dryer | Microwave | Range / Oven | Refrigerator | Washer</td>\n",
       "      <td>356</td>\n",
       "    </tr>\n",
       "    <tr>\n",
       "      <th>113</th>\n",
       "      <td>Refrigerator</td>\n",
       "      <td>342</td>\n",
       "    </tr>\n",
       "    <tr>\n",
       "      <th>34</th>\n",
       "      <td>Dishwasher | Dryer | Range / Oven | Refrigerator | Washer</td>\n",
       "      <td>241</td>\n",
       "    </tr>\n",
       "    <tr>\n",
       "      <th>67</th>\n",
       "      <td>Dishwasher | Range / Oven | Refrigerator</td>\n",
       "      <td>166</td>\n",
       "    </tr>\n",
       "    <tr>\n",
       "      <th>61</th>\n",
       "      <td>Dishwasher | Microwave | Range / Oven | Refrigerator</td>\n",
       "      <td>157</td>\n",
       "    </tr>\n",
       "  </tbody>\n",
       "</table>\n",
       "</div>"
      ],
      "text/plain": [
       "                                                                appliances  \\\n",
       "0                                                               Dishwasher   \n",
       "87                                                          Dryer | Washer   \n",
       "39                                             Dishwasher | Dryer | Washer   \n",
       "108                                                           Range / Oven   \n",
       "109                                            Range / Oven | Refrigerator   \n",
       "27   Dishwasher | Dryer | Microwave | Range / Oven | Refrigerator | Washer   \n",
       "113                                                           Refrigerator   \n",
       "34               Dishwasher | Dryer | Range / Oven | Refrigerator | Washer   \n",
       "67                                Dishwasher | Range / Oven | Refrigerator   \n",
       "61                    Dishwasher | Microwave | Range / Oven | Refrigerator   \n",
       "\n",
       "     zipcode  \n",
       "0       1856  \n",
       "87      1113  \n",
       "39      1109  \n",
       "108      736  \n",
       "109      380  \n",
       "27       356  \n",
       "113      342  \n",
       "34       241  \n",
       "67       166  \n",
       "61       157  "
      ]
     },
     "execution_count": 33,
     "metadata": {},
     "output_type": "execute_result"
    }
   ],
   "source": [
    "df.groupby('appliances')['zipcode'].count().reset_index().sort_values(by='zipcode', ascending=False).head(10)"
   ]
  },
  {
   "cell_type": "code",
   "execution_count": 34,
   "metadata": {},
   "outputs": [],
   "source": [
    "df['Dishwasher'] = df['appliances'].apply(lambda x: 1 if 'Dishwasher' in str(x) else 0)\n",
    "df['Dryer'] = df['appliances'].apply(lambda x: 1 if 'Dryer' in str(x) else 0)\n",
    "df['Washer'] = df['appliances'].apply(lambda x: 1 if 'Washer' in str(x) else 0)\n",
    "df['Refrigerator'] = df['appliances'].apply(lambda x: 1 if 'Refrigerator' in str(x) else 0)\n",
    "df['Range / Oven'] = df['appliances'].apply(lambda x: 1 if 'Range / Oven' in str(x) else 0)\n",
    "df['Microwave'] = df['appliances'].apply(lambda x: 1 if 'Microwave' in str(x) else 0)"
   ]
  },
  {
   "cell_type": "code",
   "execution_count": 35,
   "metadata": {},
   "outputs": [],
   "source": [
    "df = df.drop(columns='appliances')"
   ]
  },
  {
   "cell_type": "markdown",
   "metadata": {},
   "source": [
    "### laundryFeatures"
   ]
  },
  {
   "cell_type": "code",
   "execution_count": 36,
   "metadata": {},
   "outputs": [
    {
     "data": {
      "text/plain": [
       "laundryFeatures\n",
       "Hookups                       27\n",
       "In Unit                     3041\n",
       "Main Level | In the unit       1\n",
       "Name: zipcode, dtype: int64"
      ]
     },
     "execution_count": 36,
     "metadata": {},
     "output_type": "execute_result"
    }
   ],
   "source": [
    "df.groupby('laundryFeatures')['zipcode'].count()"
   ]
  },
  {
   "cell_type": "code",
   "execution_count": 37,
   "metadata": {},
   "outputs": [],
   "source": [
    "df['laundryFeatures'] = df['laundryFeatures'].isna().apply(lambda x: 1 if x == False else 0)"
   ]
  },
  {
   "cell_type": "markdown",
   "metadata": {},
   "source": [
    "### Price"
   ]
  },
  {
   "cell_type": "code",
   "execution_count": 60,
   "metadata": {},
   "outputs": [
    {
     "data": {
      "image/png": "[encoded data removed]",
      "text/plain": [
       "<Figure size 432x288 with 1 Axes>"
      ]
     },
     "metadata": {
      "needs_background": "light"
     },
     "output_type": "display_data"
    }
   ],
   "source": [
    "plt.hist(x=df.price, bins=100)\n",
    "plt.title('Prices');"
   ]
  },
  {
   "cell_type": "code",
   "execution_count": 61,
   "metadata": {},
   "outputs": [],
   "source": [
    "df = df[df.price < 10000]"
   ]
  },
  {
   "cell_type": "markdown",
   "metadata": {},
   "source": [
    "## One hot"
   ]
  },
  {
   "cell_type": "code",
   "execution_count": 38,
   "metadata": {},
   "outputs": [],
   "source": [
    "df['zipcode'] = df['zipcode'].astype(np.int)\n",
    "\n",
    "df = pd.get_dummies(\n",
    "            data=df,\n",
    "            columns=['zipcode', 'homeType'],\n",
    "            prefix=['zipcode', 'homeType'])"
   ]
  },
  {
   "cell_type": "code",
   "execution_count": 45,
   "metadata": {},
   "outputs": [
    {
     "data": {
      "text/html": [
       "<div>\n",
       "<style scoped>\n",
       "    .dataframe tbody tr th:only-of-type {\n",
       "        vertical-align: middle;\n",
       "    }\n",
       "\n",
       "    .dataframe tbody tr th {\n",
       "        vertical-align: top;\n",
       "    }\n",
       "\n",
       "    .dataframe thead th {\n",
       "        text-align: right;\n",
       "    }\n",
       "</style>\n",
       "<table border=\"1\" class=\"dataframe\">\n",
       "  <thead>\n",
       "    <tr style=\"text-align: right;\">\n",
       "      <th></th>\n",
       "      <th>bedrooms</th>\n",
       "      <th>bathrooms</th>\n",
       "      <th>hasHeating</th>\n",
       "      <th>furnished</th>\n",
       "      <th>parking</th>\n",
       "      <th>hasGarage</th>\n",
       "      <th>hasPetsAllowed</th>\n",
       "      <th>laundryFeatures</th>\n",
       "      <th>price</th>\n",
       "      <th>Dishwasher</th>\n",
       "      <th>...</th>\n",
       "      <th>zipcode_19047</th>\n",
       "      <th>zipcode_19054</th>\n",
       "      <th>zipcode_19055</th>\n",
       "      <th>zipcode_19057</th>\n",
       "      <th>zipcode_19067</th>\n",
       "      <th>homeType_Apartment</th>\n",
       "      <th>homeType_Condo</th>\n",
       "      <th>homeType_Multiple Occupancy</th>\n",
       "      <th>homeType_Single Family</th>\n",
       "      <th>homeType_Townhouse</th>\n",
       "    </tr>\n",
       "  </thead>\n",
       "  <tbody>\n",
       "    <tr>\n",
       "      <th>0</th>\n",
       "      <td>2.0</td>\n",
       "      <td>1.0</td>\n",
       "      <td>1</td>\n",
       "      <td>0</td>\n",
       "      <td>1</td>\n",
       "      <td>True</td>\n",
       "      <td>0</td>\n",
       "      <td>1</td>\n",
       "      <td>1195</td>\n",
       "      <td>0</td>\n",
       "      <td>...</td>\n",
       "      <td>0</td>\n",
       "      <td>0</td>\n",
       "      <td>0</td>\n",
       "      <td>0</td>\n",
       "      <td>0</td>\n",
       "      <td>1</td>\n",
       "      <td>0</td>\n",
       "      <td>0</td>\n",
       "      <td>0</td>\n",
       "      <td>0</td>\n",
       "    </tr>\n",
       "    <tr>\n",
       "      <th>1</th>\n",
       "      <td>2.0</td>\n",
       "      <td>2.0</td>\n",
       "      <td>1</td>\n",
       "      <td>0</td>\n",
       "      <td>0</td>\n",
       "      <td>False</td>\n",
       "      <td>0</td>\n",
       "      <td>1</td>\n",
       "      <td>1850</td>\n",
       "      <td>0</td>\n",
       "      <td>...</td>\n",
       "      <td>0</td>\n",
       "      <td>0</td>\n",
       "      <td>0</td>\n",
       "      <td>0</td>\n",
       "      <td>0</td>\n",
       "      <td>1</td>\n",
       "      <td>0</td>\n",
       "      <td>0</td>\n",
       "      <td>0</td>\n",
       "      <td>0</td>\n",
       "    </tr>\n",
       "    <tr>\n",
       "      <th>2</th>\n",
       "      <td>2.0</td>\n",
       "      <td>2.0</td>\n",
       "      <td>1</td>\n",
       "      <td>0</td>\n",
       "      <td>2</td>\n",
       "      <td>True</td>\n",
       "      <td>0</td>\n",
       "      <td>1</td>\n",
       "      <td>2500</td>\n",
       "      <td>1</td>\n",
       "      <td>...</td>\n",
       "      <td>0</td>\n",
       "      <td>0</td>\n",
       "      <td>0</td>\n",
       "      <td>0</td>\n",
       "      <td>0</td>\n",
       "      <td>0</td>\n",
       "      <td>0</td>\n",
       "      <td>0</td>\n",
       "      <td>0</td>\n",
       "      <td>1</td>\n",
       "    </tr>\n",
       "    <tr>\n",
       "      <th>3</th>\n",
       "      <td>2.0</td>\n",
       "      <td>1.0</td>\n",
       "      <td>1</td>\n",
       "      <td>0</td>\n",
       "      <td>0</td>\n",
       "      <td>False</td>\n",
       "      <td>0</td>\n",
       "      <td>0</td>\n",
       "      <td>1500</td>\n",
       "      <td>1</td>\n",
       "      <td>...</td>\n",
       "      <td>0</td>\n",
       "      <td>0</td>\n",
       "      <td>0</td>\n",
       "      <td>0</td>\n",
       "      <td>0</td>\n",
       "      <td>1</td>\n",
       "      <td>0</td>\n",
       "      <td>0</td>\n",
       "      <td>0</td>\n",
       "      <td>0</td>\n",
       "    </tr>\n",
       "    <tr>\n",
       "      <th>4</th>\n",
       "      <td>0.0</td>\n",
       "      <td>1.0</td>\n",
       "      <td>1</td>\n",
       "      <td>0</td>\n",
       "      <td>0</td>\n",
       "      <td>False</td>\n",
       "      <td>0</td>\n",
       "      <td>0</td>\n",
       "      <td>775</td>\n",
       "      <td>0</td>\n",
       "      <td>...</td>\n",
       "      <td>0</td>\n",
       "      <td>0</td>\n",
       "      <td>0</td>\n",
       "      <td>0</td>\n",
       "      <td>0</td>\n",
       "      <td>1</td>\n",
       "      <td>0</td>\n",
       "      <td>0</td>\n",
       "      <td>0</td>\n",
       "      <td>0</td>\n",
       "    </tr>\n",
       "  </tbody>\n",
       "</table>\n",
       "<p>5 rows × 788 columns</p>\n",
       "</div>"
      ],
      "text/plain": [
       "   bedrooms  bathrooms  hasHeating  furnished  parking  hasGarage  \\\n",
       "0       2.0        1.0           1          0        1       True   \n",
       "1       2.0        2.0           1          0        0      False   \n",
       "2       2.0        2.0           1          0        2       True   \n",
       "3       2.0        1.0           1          0        0      False   \n",
       "4       0.0        1.0           1          0        0      False   \n",
       "\n",
       "   hasPetsAllowed  laundryFeatures  price  Dishwasher  ...  zipcode_19047  \\\n",
       "0               0                1   1195           0  ...              0   \n",
       "1               0                1   1850           0  ...              0   \n",
       "2               0                1   2500           1  ...              0   \n",
       "3               0                0   1500           1  ...              0   \n",
       "4               0                0    775           0  ...              0   \n",
       "\n",
       "   zipcode_19054  zipcode_19055  zipcode_19057  zipcode_19067  \\\n",
       "0              0              0              0              0   \n",
       "1              0              0              0              0   \n",
       "2              0              0              0              0   \n",
       "3              0              0              0              0   \n",
       "4              0              0              0              0   \n",
       "\n",
       "   homeType_Apartment  homeType_Condo  homeType_Multiple Occupancy  \\\n",
       "0                   1               0                            0   \n",
       "1                   1               0                            0   \n",
       "2                   0               0                            0   \n",
       "3                   1               0                            0   \n",
       "4                   1               0                            0   \n",
       "\n",
       "   homeType_Single Family  homeType_Townhouse  \n",
       "0                       0                   0  \n",
       "1                       0                   0  \n",
       "2                       0                   1  \n",
       "3                       0                   0  \n",
       "4                       0                   0  \n",
       "\n",
       "[5 rows x 788 columns]"
      ]
     },
     "execution_count": 45,
     "metadata": {},
     "output_type": "execute_result"
    }
   ],
   "source": [
    "df.head()"
   ]
  },
  {
   "cell_type": "markdown",
   "metadata": {},
   "source": [
    "## Simple model"
   ]
  },
  {
   "cell_type": "code",
   "execution_count": 119,
   "metadata": {},
   "outputs": [],
   "source": [
    "columns = [\n",
    "    'bedrooms', \n",
    "    'bathrooms', \n",
    "    'furnished',\n",
    "    'hasHeating', \n",
    "    'parking', \n",
    "    'hasGarage',\n",
    "    'hasPetsAllowed', \n",
    "    'Dishwasher', \n",
    "    'Dryer', \n",
    "    'Washer',\n",
    "    'Refrigerator',\n",
    "    'Range / Oven',\n",
    "    'Microwave',\n",
    "    'price'\n",
    "]\n",
    "\n",
    "df_simple = df[columns]\n",
    "\n",
    "\n",
    "from sklearn.model_selection import train_test_split\n",
    "\n",
    "y = df_simple['price'].values\n",
    "X = df_simple.drop(columns = 'price').values\n",
    "\n",
    "X_train, X_test, y_train, y_test = train_test_split(X, y, test_size=0.1, random_state=42)"
   ]
  },
  {
   "cell_type": "code",
   "execution_count": 120,
   "metadata": {},
   "outputs": [],
   "source": [
    "a = {'a': 1}"
   ]
  },
  {
   "cell_type": "code",
   "execution_count": 121,
   "metadata": {},
   "outputs": [
    {
     "data": {
      "text/plain": [
       "'[1 2 3]'"
      ]
     },
     "execution_count": 121,
     "metadata": {},
     "output_type": "execute_result"
    }
   ],
   "source": [
    "str(np.array([1,2,3]))"
   ]
  },
  {
   "cell_type": "code",
   "execution_count": 122,
   "metadata": {},
   "outputs": [
    {
     "name": "stdout",
     "output_type": "stream",
     "text": [
      "Ridge\n",
      "Train: MAE 489.1133730281665, RMSE 780.2648407073659\n",
      "Test: MAE: 492.8497712329332, RMSE 794.4256032381641\n"
     ]
    }
   ],
   "source": [
    "from sklearn.linear_model import Ridge\n",
    "from sklearn.metrics import mean_squared_error\n",
    "from sklearn.metrics import mean_absolute_error\n",
    "\n",
    "\n",
    "model_ridge = Ridge()\n",
    "model_ridge.fit(X_train, y_train)\n",
    "\n",
    "ridge_train_pred = model_ridge.predict(X_train)\n",
    "ridge_test_pred = model_ridge.predict(X_test)\n",
    "\n",
    "ridge_train_MAE = mean_absolute_error(y_train, ridge_train_pred)\n",
    "ridge_test_MAE = mean_absolute_error(y_test, ridge_test_pred)\n",
    "\n",
    "ridge_train_RMSE = mean_squared_error(y_train, ridge_train_pred, squared=False)\n",
    "ridge_test_RMSE = mean_squared_error(y_test, ridge_test_pred, squared=False)\n",
    "\n",
    "print('Ridge\\nTrain: MAE {}, RMSE {}\\nTest: MAE: {}, RMSE {}'.format(ridge_train_MAE, ridge_train_RMSE, ridge_test_MAE, ridge_test_RMSE))"
   ]
  },
  {
   "cell_type": "code",
   "execution_count": 123,
   "metadata": {},
   "outputs": [],
   "source": [
    "path_to_model = '/Users/dzianissokalau/github_repos/property_estimate/model.pkl'\n",
    "pickle.dump(model_ridge, open(path_to_model,'wb'))"
   ]
  },
  {
   "cell_type": "code",
   "execution_count": 127,
   "metadata": {},
   "outputs": [
    {
     "data": {
      "text/plain": [
       "array([0, 0, 1, 1, 1, 1, 1, 1, 0, 1, 1, 0, 0])"
      ]
     },
     "execution_count": 127,
     "metadata": {},
     "output_type": "execute_result"
    }
   ],
   "source": [
    "f = np.array([0, 0, 1, 1, 1, 1, 1, 1, 0, 1, 1, 0, 0])\n",
    "f"
   ]
  },
  {
   "cell_type": "code",
   "execution_count": 129,
   "metadata": {},
   "outputs": [
    {
     "data": {
      "text/plain": [
       "array([1855.29118001])"
      ]
     },
     "execution_count": 129,
     "metadata": {},
     "output_type": "execute_result"
    }
   ],
   "source": [
    "model_ridge.predict(f.reshape(1, 13))"
   ]
  },
  {
   "cell_type": "code",
   "execution_count": 109,
   "metadata": {},
   "outputs": [
    {
     "data": {
      "text/plain": [
       "numpy.ndarray"
      ]
     },
     "execution_count": 109,
     "metadata": {},
     "output_type": "execute_result"
    }
   ],
   "source": [
    "type(X_test)"
   ]
  },
  {
   "cell_type": "code",
   "execution_count": 82,
   "metadata": {},
   "outputs": [
    {
     "ename": "ImportError",
     "evalue": "cannot import name 'base' from 'sklearn.linear_model' (/Users/dzianissokalau/pyenv/lib/python3.9/site-packages/sklearn/linear_model/__init__.py)",
     "output_type": "error",
     "traceback": [
      "\u001b[0;31m---------------------------------------------------------------------------\u001b[0m",
      "\u001b[0;31mImportError\u001b[0m                               Traceback (most recent call last)",
      "\u001b[0;32m<ipython-input-82-01ee14781610>\u001b[0m in \u001b[0;36m<module>\u001b[0;34m\u001b[0m\n\u001b[0;32m----> 1\u001b[0;31m \u001b[0;32mfrom\u001b[0m \u001b[0msklearn\u001b[0m\u001b[0;34m.\u001b[0m\u001b[0mlinear_model\u001b[0m \u001b[0;32mimport\u001b[0m \u001b[0mbase\u001b[0m\u001b[0;34m\u001b[0m\u001b[0;34m\u001b[0m\u001b[0m\n\u001b[0m",
      "\u001b[0;31mImportError\u001b[0m: cannot import name 'base' from 'sklearn.linear_model' (/Users/dzianissokalau/pyenv/lib/python3.9/site-packages/sklearn/linear_model/__init__.py)"
     ]
    }
   ],
   "source": [
    "from sklearn.linear_model import base"
   ]
  },
  {
   "cell_type": "markdown",
   "metadata": {},
   "source": [
    "## Modelling "
   ]
  },
  {
   "cell_type": "code",
   "execution_count": 64,
   "metadata": {},
   "outputs": [],
   "source": [
    "y = df['price'].values\n",
    "X = df.drop(columns = 'price').values\n",
    "\n",
    "X_train, X_test, y_train, y_test = train_test_split(X, y, test_size=0.1, random_state=42)"
   ]
  },
  {
   "cell_type": "markdown",
   "metadata": {},
   "source": [
    "### Baseline"
   ]
  },
  {
   "cell_type": "code",
   "execution_count": 65,
   "metadata": {},
   "outputs": [
    {
     "data": {
      "text/plain": [
       "DummyRegressor(strategy='median')"
      ]
     },
     "execution_count": 65,
     "metadata": {},
     "output_type": "execute_result"
    }
   ],
   "source": [
    "from sklearn.dummy import DummyRegressor\n",
    "\n",
    "baseline_model_mean = DummyRegressor(strategy='mean')\n",
    "baseline_model_mean.fit(X_train, y_train)\n",
    "\n",
    "\n",
    "baseline_model_median = DummyRegressor(strategy='median')\n",
    "baseline_model_median.fit(X_train, y_train)"
   ]
  },
  {
   "cell_type": "code",
   "execution_count": 66,
   "metadata": {},
   "outputs": [
    {
     "name": "stdout",
     "output_type": "stream",
     "text": [
      "Strategy - Mean\n",
      "Train: MAE 659.9729657317527, RMSE 1010.8014976083012\n",
      "Test: MAE: 680.2920226682846, RMSE 1033.4126908578241\n"
     ]
    }
   ],
   "source": [
    "from sklearn.metrics import mean_squared_error\n",
    "from sklearn.metrics import mean_absolute_error\n",
    "\n",
    "mean_train_pred = baseline_model_mean.predict(X_train)\n",
    "mean_test_pred = baseline_model_mean.predict(X_test)\n",
    "\n",
    "mean_train_MAE = mean_absolute_error(y_train, mean_train_pred)\n",
    "mean_test_MAE = mean_absolute_error(y_test, mean_test_pred)\n",
    "\n",
    "mean_train_RMSE = mean_squared_error(y_train, mean_train_pred, squared=False)\n",
    "mean_test_RMSE = mean_squared_error(y_test, mean_test_pred, squared=False)\n",
    "\n",
    "print('Strategy - Mean\\nTrain: MAE {}, RMSE {}\\nTest: MAE: {}, RMSE {}'.format(mean_train_MAE, mean_train_RMSE, mean_test_MAE, mean_test_RMSE))"
   ]
  },
  {
   "cell_type": "code",
   "execution_count": 67,
   "metadata": {},
   "outputs": [
    {
     "name": "stdout",
     "output_type": "stream",
     "text": [
      "Strategy - Median\n",
      "Train: MAE 629.2977246110089, RMSE 1043.9467920113448\n",
      "Test: MAE: 640.9631301730625, RMSE 1064.501780473877\n"
     ]
    }
   ],
   "source": [
    "median_train_pred = baseline_model_median.predict(X_train)\n",
    "median_test_pred = baseline_model_median.predict(X_test)\n",
    "\n",
    "median_train_MAE = mean_absolute_error(y_train, median_train_pred)\n",
    "median_test_MAE = mean_absolute_error(y_test, median_test_pred)\n",
    "\n",
    "median_train_RMSE = mean_squared_error(y_train, median_train_pred, squared=False)\n",
    "median_test_RMSE = mean_squared_error(y_test, median_test_pred, squared=False)\n",
    "\n",
    "print('Strategy - Median\\nTrain: MAE {}, RMSE {}\\nTest: MAE: {}, RMSE {}'.format(median_train_MAE, median_train_RMSE, median_test_MAE, median_test_RMSE))"
   ]
  },
  {
   "cell_type": "markdown",
   "metadata": {},
   "source": [
    "### Ridge"
   ]
  },
  {
   "cell_type": "code",
   "execution_count": 68,
   "metadata": {},
   "outputs": [
    {
     "name": "stdout",
     "output_type": "stream",
     "text": [
      "Ridge\n",
      "Train: MAE 381.9217059754329, RMSE 621.7085681354522\n",
      "Test: MAE: 415.0125215180979, RMSE 700.0089175513631\n"
     ]
    }
   ],
   "source": [
    "from sklearn.linear_model import Ridge\n",
    "\n",
    "model_ridge = Ridge()\n",
    "model_ridge.fit(X_train, y_train)\n",
    "\n",
    "ridge_train_pred = model_ridge.predict(X_train)\n",
    "ridge_test_pred = model_ridge.predict(X_test)\n",
    "\n",
    "ridge_train_MAE = mean_absolute_error(y_train, ridge_train_pred)\n",
    "ridge_test_MAE = mean_absolute_error(y_test, ridge_test_pred)\n",
    "\n",
    "ridge_train_RMSE = mean_squared_error(y_train, ridge_train_pred, squared=False)\n",
    "ridge_test_RMSE = mean_squared_error(y_test, ridge_test_pred, squared=False)\n",
    "\n",
    "print('Ridge\\nTrain: MAE {}, RMSE {}\\nTest: MAE: {}, RMSE {}'.format(ridge_train_MAE, ridge_train_RMSE, ridge_test_MAE, ridge_test_RMSE))"
   ]
  },
  {
   "cell_type": "code",
   "execution_count": 69,
   "metadata": {},
   "outputs": [
    {
     "name": "stdout",
     "output_type": "stream",
     "text": [
      "RidgeCV\n",
      "Train: MAE 381.9217059754329, RMSE 621.7085681354522\n",
      "Test: MAE: 415.0125215180979, RMSE 700.0089175513631\n"
     ]
    }
   ],
   "source": [
    "from sklearn.linear_model import RidgeCV\n",
    "\n",
    "model_ridgeCV = RidgeCV(alphas=(0.1, 0.5, 0.8, 1.0, 2.0, 5.0, 10.0), cv=10)\n",
    "model_ridgeCV.fit(X_train, y_train)\n",
    "\n",
    "ridgeCV_train_pred = model_ridge.predict(X_train)\n",
    "ridgeCV_test_pred = model_ridge.predict(X_test)\n",
    "\n",
    "ridgeCV_train_MAE = mean_absolute_error(y_train, ridgeCV_train_pred)\n",
    "ridgeCV_test_MAE = mean_absolute_error(y_test, ridgeCV_test_pred)\n",
    "\n",
    "ridgeCV_train_RMSE = mean_squared_error(y_train, ridgeCV_train_pred, squared=False)\n",
    "ridgeCV_test_RMSE = mean_squared_error(y_test, ridgeCV_test_pred, squared=False)\n",
    "\n",
    "print('RidgeCV\\nTrain: MAE {}, RMSE {}\\nTest: MAE: {}, RMSE {}'.format(ridgeCV_train_MAE, ridgeCV_train_RMSE, ridgeCV_test_MAE, ridgeCV_test_RMSE))"
   ]
  },
  {
   "cell_type": "markdown",
   "metadata": {},
   "source": [
    "### Lasso"
   ]
  },
  {
   "cell_type": "code",
   "execution_count": 70,
   "metadata": {},
   "outputs": [
    {
     "name": "stdout",
     "output_type": "stream",
     "text": [
      "Lasso\n",
      "Train: MAE 436.89316134058095, RMSE 711.9281161021295\n",
      "Test: MAE: 444.39503665957795, RMSE 742.9702449994941\n"
     ]
    }
   ],
   "source": [
    "from sklearn.linear_model import Lasso\n",
    "\n",
    "model_lasso = Lasso()\n",
    "model_lasso.fit(X_train, y_train)\n",
    "\n",
    "lasso_train_pred = model_lasso.predict(X_train)\n",
    "lasso_test_pred = model_lasso.predict(X_test)\n",
    "\n",
    "lasso_train_MAE = mean_absolute_error(y_train, lasso_train_pred)\n",
    "lasso_test_MAE = mean_absolute_error(y_test, lasso_test_pred)\n",
    "\n",
    "lasso_train_RMSE = mean_squared_error(y_train, lasso_train_pred, squared=False)\n",
    "lasso_test_RMSE = mean_squared_error(y_test, lasso_test_pred, squared=False)\n",
    "\n",
    "print('Lasso\\nTrain: MAE {}, RMSE {}\\nTest: MAE: {}, RMSE {}'.format(lasso_train_MAE, lasso_train_RMSE, lasso_test_MAE, lasso_test_RMSE))"
   ]
  },
  {
   "cell_type": "code",
   "execution_count": 71,
   "metadata": {},
   "outputs": [
    {
     "name": "stdout",
     "output_type": "stream",
     "text": [
      "Lasso CV\n",
      "Train: MAE 383.8897657985909, RMSE 622.6489122677256\n",
      "Test: MAE: 420.25990459728484, RMSE 722.6687031854499\n"
     ]
    }
   ],
   "source": [
    "from sklearn.linear_model import LassoCV\n",
    "\n",
    "model_lassoCV = LassoCV(eps=0.0001, cv=3, n_alphas=1000, max_iter=10000, random_state=42)\n",
    "model_lassoCV.fit(X_train, y_train)\n",
    "\n",
    "lassoCV_train_pred = model_lassoCV.predict(X_train)\n",
    "lassoCV_test_pred = model_lassoCV.predict(X_test)\n",
    "\n",
    "lassoCV_train_MAE = mean_absolute_error(y_train, lassoCV_train_pred)\n",
    "lassoCV_test_MAE = mean_absolute_error(y_test, lassoCV_test_pred)\n",
    "\n",
    "lassoCV_train_RMSE = mean_squared_error(y_train, lassoCV_train_pred, squared=False)\n",
    "lassoCV_test_RMSE = mean_squared_error(y_test, lassoCV_test_pred, squared=False)\n",
    "\n",
    "print('Lasso CV\\nTrain: MAE {}, RMSE {}\\nTest: MAE: {}, RMSE {}'.format(lassoCV_train_MAE, lassoCV_train_RMSE, lassoCV_test_MAE, lassoCV_test_RMSE))\n"
   ]
  },
  {
   "cell_type": "code",
   "execution_count": null,
   "metadata": {},
   "outputs": [],
   "source": []
  }
 ],
 "metadata": {
  "kernelspec": {
   "display_name": "Python 3",
   "language": "python",
   "name": "python3"
  },
  "language_info": {
   "codemirror_mode": {
    "name": "ipython",
    "version": 3
   },
   "file_extension": ".py",
   "mimetype": "text/x-python",
   "name": "python",
   "nbconvert_exporter": "python",
   "pygments_lexer": "ipython3",
   "version": "3.9.0"
  }
 },
 "nbformat": 4,
 "nbformat_minor": 4
}
